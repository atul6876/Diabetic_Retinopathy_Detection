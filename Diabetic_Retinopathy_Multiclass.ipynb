{
  "nbformat": 4,
  "nbformat_minor": 0,
  "metadata": {
    "colab": {
      "name": "Diabetic_Retinopathy_Multiclass.ipynb",
      "provenance": [],
      "collapsed_sections": [],
      "mount_file_id": "1pvrOKkG7JV1wJPfNyMMr3K_njUgJuF66",
      "authorship_tag": "ABX9TyPzXXbeducp3TYoA3nThiI/",
      "include_colab_link": true
    },
    "kernelspec": {
      "name": "python3",
      "display_name": "Python 3"
    },
    "accelerator": "GPU"
  },
  "cells": [
    {
      "cell_type": "markdown",
      "metadata": {
        "id": "view-in-github",
        "colab_type": "text"
      },
      "source": [
        "<a href=\"https://colab.research.google.com/github/atul6876/Diabetic_Retinopathy_Detection/blob/main/Diabetic_Retinopathy_Multiclass.ipynb\" target=\"_parent\"><img src=\"https://colab.research.google.com/assets/colab-badge.svg\" alt=\"Open In Colab\"/></a>"
      ]
    },
    {
      "cell_type": "code",
      "metadata": {
        "id": "Lu2c8Yx_R-X9",
        "outputId": "114c85da-3d8c-4781-eb38-f567d221e852",
        "colab": {
          "base_uri": "https://localhost:8080/",
          "height": 35
        }
      },
      "source": [
        "# Change Runtime Type to GPU. The code below checks if the GPU is provisioned for this runtime\n",
        "import tensorflow as tf\n",
        "tf.test.gpu_device_name()"
      ],
      "execution_count": null,
      "outputs": [
        {
          "output_type": "execute_result",
          "data": {
            "application/vnd.google.colaboratory.intrinsic+json": {
              "type": "string"
            },
            "text/plain": [
              "'/device:GPU:0'"
            ]
          },
          "metadata": {
            "tags": []
          },
          "execution_count": 1
        }
      ]
    },
    {
      "cell_type": "code",
      "metadata": {
        "id": "IyTeUd79SHhm",
        "outputId": "0beb88ef-fd30-4f19-891a-ddd0b1c6771b",
        "colab": {
          "base_uri": "https://localhost:8080/",
          "height": 34
        }
      },
      "source": [
        "# Import the necessary modules\n",
        "\n",
        "import pandas as pd\n",
        "import numpy as np\n",
        "import matplotlib.pyplot as plt\n",
        "import keras\n",
        "import sklearn\n",
        "\n",
        "from keras.preprocessing.image import ImageDataGenerator\n",
        "from keras.models import Sequential, Model                     # Model is useful to edit the layers of an existing model\n",
        "from keras.layers import Conv2D, MaxPooling2D\n",
        "from keras.layers import Activation, Dropout, Flatten, Dense\n",
        "from keras import backend as K"
      ],
      "execution_count": null,
      "outputs": [
        {
          "output_type": "stream",
          "text": [
            "Using TensorFlow backend.\n"
          ],
          "name": "stderr"
        }
      ]
    },
    {
      "cell_type": "code",
      "metadata": {
        "id": "A9UG55qgSLwU",
        "outputId": "e0a3956f-13a0-4a12-c840-2fa187687a76",
        "colab": {
          "base_uri": "https://localhost:8080/",
          "height": 195
        }
      },
      "source": [
        "data = pd.read_csv('/content/drive/My Drive/Aptos Dataset/train.csv')\n",
        "data.head()"
      ],
      "execution_count": null,
      "outputs": [
        {
          "output_type": "execute_result",
          "data": {
            "text/html": [
              "<div>\n",
              "<style scoped>\n",
              "    .dataframe tbody tr th:only-of-type {\n",
              "        vertical-align: middle;\n",
              "    }\n",
              "\n",
              "    .dataframe tbody tr th {\n",
              "        vertical-align: top;\n",
              "    }\n",
              "\n",
              "    .dataframe thead th {\n",
              "        text-align: right;\n",
              "    }\n",
              "</style>\n",
              "<table border=\"1\" class=\"dataframe\">\n",
              "  <thead>\n",
              "    <tr style=\"text-align: right;\">\n",
              "      <th></th>\n",
              "      <th>id_code</th>\n",
              "      <th>diagnosis</th>\n",
              "    </tr>\n",
              "  </thead>\n",
              "  <tbody>\n",
              "    <tr>\n",
              "      <th>0</th>\n",
              "      <td>000c1434d8d7</td>\n",
              "      <td>2</td>\n",
              "    </tr>\n",
              "    <tr>\n",
              "      <th>1</th>\n",
              "      <td>001639a390f0</td>\n",
              "      <td>4</td>\n",
              "    </tr>\n",
              "    <tr>\n",
              "      <th>2</th>\n",
              "      <td>0024cdab0c1e</td>\n",
              "      <td>1</td>\n",
              "    </tr>\n",
              "    <tr>\n",
              "      <th>3</th>\n",
              "      <td>002c21358ce6</td>\n",
              "      <td>0</td>\n",
              "    </tr>\n",
              "    <tr>\n",
              "      <th>4</th>\n",
              "      <td>005b95c28852</td>\n",
              "      <td>0</td>\n",
              "    </tr>\n",
              "  </tbody>\n",
              "</table>\n",
              "</div>"
            ],
            "text/plain": [
              "        id_code  diagnosis\n",
              "0  000c1434d8d7          2\n",
              "1  001639a390f0          4\n",
              "2  0024cdab0c1e          1\n",
              "3  002c21358ce6          0\n",
              "4  005b95c28852          0"
            ]
          },
          "metadata": {
            "tags": []
          },
          "execution_count": 4
        }
      ]
    },
    {
      "cell_type": "markdown",
      "metadata": {
        "id": "hdiVVZI4S6d6"
      },
      "source": [
        "### **Diabetic Retinopathy diagnosis labels**:\n",
        "\n",
        "0 - No DR\n",
        "\n",
        "1 - Mild\n",
        "\n",
        "2 - Moderate\n",
        "\n",
        "3 - Severe\n",
        "\n",
        "4 - Proliferative DR"
      ]
    },
    {
      "cell_type": "code",
      "metadata": {
        "id": "SZKIWW8hSOJH",
        "outputId": "960b932a-13ff-42e5-c82f-ae219c03ed2d",
        "colab": {
          "base_uri": "https://localhost:8080/",
          "height": 118
        }
      },
      "source": [
        "# print out the number of instances of class labels for the data.\n",
        "data['diagnosis'].value_counts()"
      ],
      "execution_count": null,
      "outputs": [
        {
          "output_type": "execute_result",
          "data": {
            "text/plain": [
              "0    1805\n",
              "2     999\n",
              "1     370\n",
              "4     295\n",
              "3     193\n",
              "Name: diagnosis, dtype: int64"
            ]
          },
          "metadata": {
            "tags": []
          },
          "execution_count": 5
        }
      ]
    },
    {
      "cell_type": "code",
      "metadata": {
        "id": "WRk9Ya_1TGci",
        "outputId": "c246f7af-5d36-49a8-e98a-1f361d451f09",
        "colab": {
          "base_uri": "https://localhost:8080/",
          "height": 34
        }
      },
      "source": [
        "# Appending a column with Text labels: This step is necessary because we're going to use the flow_from_dataframe method for iterating over images while fitting our model\n",
        "Multiclass_Diagnosis=[]\n",
        "for i in data['diagnosis']:\n",
        "    if i == 0:\n",
        "        Multiclass_Diagnosis.append('No DR')\n",
        "    elif i == 1:\n",
        "        Multiclass_Diagnosis.append('Mild')\n",
        "    elif i == 2:\n",
        "        Multiclass_Diagnosis.append('Moderate')\n",
        "    elif i == 3:\n",
        "        Multiclass_Diagnosis.append('Severe')\n",
        "    else:\n",
        "        Multiclass_Diagnosis.append('Proliferative DR')\n",
        "print(len(Multiclass_Diagnosis))"
      ],
      "execution_count": null,
      "outputs": [
        {
          "output_type": "stream",
          "text": [
            "3662\n"
          ],
          "name": "stdout"
        }
      ]
    },
    {
      "cell_type": "code",
      "metadata": {
        "id": "vT3gilUXUQHL",
        "outputId": "64036686-0911-421e-a758-79547664112a",
        "colab": {
          "base_uri": "https://localhost:8080/",
          "height": 195
        }
      },
      "source": [
        "# Add the Multiclass classification column to the dataframe\n",
        "data['Multiclass_Diagnosis'] = Multiclass_Diagnosis\n",
        "data.head()"
      ],
      "execution_count": null,
      "outputs": [
        {
          "output_type": "execute_result",
          "data": {
            "text/html": [
              "<div>\n",
              "<style scoped>\n",
              "    .dataframe tbody tr th:only-of-type {\n",
              "        vertical-align: middle;\n",
              "    }\n",
              "\n",
              "    .dataframe tbody tr th {\n",
              "        vertical-align: top;\n",
              "    }\n",
              "\n",
              "    .dataframe thead th {\n",
              "        text-align: right;\n",
              "    }\n",
              "</style>\n",
              "<table border=\"1\" class=\"dataframe\">\n",
              "  <thead>\n",
              "    <tr style=\"text-align: right;\">\n",
              "      <th></th>\n",
              "      <th>id_code</th>\n",
              "      <th>diagnosis</th>\n",
              "      <th>Multiclass_Diagnosis</th>\n",
              "    </tr>\n",
              "  </thead>\n",
              "  <tbody>\n",
              "    <tr>\n",
              "      <th>0</th>\n",
              "      <td>000c1434d8d7</td>\n",
              "      <td>2</td>\n",
              "      <td>Moderate</td>\n",
              "    </tr>\n",
              "    <tr>\n",
              "      <th>1</th>\n",
              "      <td>001639a390f0</td>\n",
              "      <td>4</td>\n",
              "      <td>Proliferative DR</td>\n",
              "    </tr>\n",
              "    <tr>\n",
              "      <th>2</th>\n",
              "      <td>0024cdab0c1e</td>\n",
              "      <td>1</td>\n",
              "      <td>Mild</td>\n",
              "    </tr>\n",
              "    <tr>\n",
              "      <th>3</th>\n",
              "      <td>002c21358ce6</td>\n",
              "      <td>0</td>\n",
              "      <td>No DR</td>\n",
              "    </tr>\n",
              "    <tr>\n",
              "      <th>4</th>\n",
              "      <td>005b95c28852</td>\n",
              "      <td>0</td>\n",
              "      <td>No DR</td>\n",
              "    </tr>\n",
              "  </tbody>\n",
              "</table>\n",
              "</div>"
            ],
            "text/plain": [
              "        id_code  diagnosis Multiclass_Diagnosis\n",
              "0  000c1434d8d7          2             Moderate\n",
              "1  001639a390f0          4     Proliferative DR\n",
              "2  0024cdab0c1e          1                 Mild\n",
              "3  002c21358ce6          0                No DR\n",
              "4  005b95c28852          0                No DR"
            ]
          },
          "metadata": {
            "tags": []
          },
          "execution_count": 7
        }
      ]
    },
    {
      "cell_type": "code",
      "metadata": {
        "id": "ugecE8AiUg0z",
        "outputId": "26b66c6e-64e5-4fd1-ca49-53287b991b75",
        "colab": {
          "base_uri": "https://localhost:8080/",
          "height": 34
        }
      },
      "source": [
        "# Also, apend the image file formats (which is .png) to our image id's so that flow_from_dataframe method can work ()\n",
        "img_id = [(i+'.png') for i in data['id_code']]\n",
        "len(img_id)"
      ],
      "execution_count": null,
      "outputs": [
        {
          "output_type": "execute_result",
          "data": {
            "text/plain": [
              "3662"
            ]
          },
          "metadata": {
            "tags": []
          },
          "execution_count": 8
        }
      ]
    },
    {
      "cell_type": "code",
      "metadata": {
        "id": "HOryYCgBUl-U",
        "outputId": "3716b176-8676-4513-c02b-8f5a2b57b0da",
        "colab": {
          "base_uri": "https://localhost:8080/",
          "height": 195
        }
      },
      "source": [
        "data['img_id'] = img_id\n",
        "data.head()"
      ],
      "execution_count": null,
      "outputs": [
        {
          "output_type": "execute_result",
          "data": {
            "text/html": [
              "<div>\n",
              "<style scoped>\n",
              "    .dataframe tbody tr th:only-of-type {\n",
              "        vertical-align: middle;\n",
              "    }\n",
              "\n",
              "    .dataframe tbody tr th {\n",
              "        vertical-align: top;\n",
              "    }\n",
              "\n",
              "    .dataframe thead th {\n",
              "        text-align: right;\n",
              "    }\n",
              "</style>\n",
              "<table border=\"1\" class=\"dataframe\">\n",
              "  <thead>\n",
              "    <tr style=\"text-align: right;\">\n",
              "      <th></th>\n",
              "      <th>id_code</th>\n",
              "      <th>diagnosis</th>\n",
              "      <th>Multiclass_Diagnosis</th>\n",
              "      <th>img_id</th>\n",
              "    </tr>\n",
              "  </thead>\n",
              "  <tbody>\n",
              "    <tr>\n",
              "      <th>0</th>\n",
              "      <td>000c1434d8d7</td>\n",
              "      <td>2</td>\n",
              "      <td>Moderate</td>\n",
              "      <td>000c1434d8d7.png</td>\n",
              "    </tr>\n",
              "    <tr>\n",
              "      <th>1</th>\n",
              "      <td>001639a390f0</td>\n",
              "      <td>4</td>\n",
              "      <td>Proliferative DR</td>\n",
              "      <td>001639a390f0.png</td>\n",
              "    </tr>\n",
              "    <tr>\n",
              "      <th>2</th>\n",
              "      <td>0024cdab0c1e</td>\n",
              "      <td>1</td>\n",
              "      <td>Mild</td>\n",
              "      <td>0024cdab0c1e.png</td>\n",
              "    </tr>\n",
              "    <tr>\n",
              "      <th>3</th>\n",
              "      <td>002c21358ce6</td>\n",
              "      <td>0</td>\n",
              "      <td>No DR</td>\n",
              "      <td>002c21358ce6.png</td>\n",
              "    </tr>\n",
              "    <tr>\n",
              "      <th>4</th>\n",
              "      <td>005b95c28852</td>\n",
              "      <td>0</td>\n",
              "      <td>No DR</td>\n",
              "      <td>005b95c28852.png</td>\n",
              "    </tr>\n",
              "  </tbody>\n",
              "</table>\n",
              "</div>"
            ],
            "text/plain": [
              "        id_code  diagnosis Multiclass_Diagnosis            img_id\n",
              "0  000c1434d8d7          2             Moderate  000c1434d8d7.png\n",
              "1  001639a390f0          4     Proliferative DR  001639a390f0.png\n",
              "2  0024cdab0c1e          1                 Mild  0024cdab0c1e.png\n",
              "3  002c21358ce6          0                No DR  002c21358ce6.png\n",
              "4  005b95c28852          0                No DR  005b95c28852.png"
            ]
          },
          "metadata": {
            "tags": []
          },
          "execution_count": 9
        }
      ]
    },
    {
      "cell_type": "code",
      "metadata": {
        "id": "gas2rGgwUo-G",
        "outputId": "7f6ca89d-9327-403c-ac2b-0e70d7cf3766",
        "colab": {
          "base_uri": "https://localhost:8080/",
          "height": 118
        }
      },
      "source": [
        "# Print out the number of instances of each label in our dataset.\n",
        "data['Multiclass_Diagnosis'].value_counts()"
      ],
      "execution_count": null,
      "outputs": [
        {
          "output_type": "execute_result",
          "data": {
            "text/plain": [
              "No DR               1805\n",
              "Moderate             999\n",
              "Mild                 370\n",
              "Proliferative DR     295\n",
              "Severe               193\n",
              "Name: Multiclass_Diagnosis, dtype: int64"
            ]
          },
          "metadata": {
            "tags": []
          },
          "execution_count": 10
        }
      ]
    },
    {
      "cell_type": "code",
      "metadata": {
        "id": "snNPBowF7L1i",
        "outputId": "1c79a37b-330a-4e4a-aeb0-63d3487ff940",
        "colab": {
          "base_uri": "https://localhost:8080/",
          "height": 218
        }
      },
      "source": [
        "data[data['diagnosis']==0]['img_id']"
      ],
      "execution_count": null,
      "outputs": [
        {
          "output_type": "execute_result",
          "data": {
            "text/plain": [
              "3       002c21358ce6.png\n",
              "4       005b95c28852.png\n",
              "6       0097f532ac9f.png\n",
              "10      00cc2b75cddd.png\n",
              "12      00f6c1be5a33.png\n",
              "              ...       \n",
              "3651    ff4cd992667b.png\n",
              "3653    ff59d44a70a7.png\n",
              "3654    ff631653374e.png\n",
              "3658    ffc04fed30e6.png\n",
              "3660    ffd97f8cd5aa.png\n",
              "Name: img_id, Length: 1805, dtype: object"
            ]
          },
          "metadata": {
            "tags": []
          },
          "execution_count": 11
        }
      ]
    },
    {
      "cell_type": "code",
      "metadata": {
        "id": "g9N_AdHA1FES"
      },
      "source": [
        "%matplotlib inline\n",
        "import matplotlib.pyplot as plt\n",
        "import matplotlib.image as mpimg\n",
        "import os\n",
        "\n",
        "Img_dir = '/content/drive/My Drive/Aptos Dataset/train_images/'\n",
        "\n",
        "pix = [os.path.join(Img_dir, fname) for fname in data[data['diagnosis']==0]['img_id']]\n",
        "pic_index = 4\n",
        "\n",
        "while i < 4:\n",
        "  for i, img_path in enumerate(pix):\n",
        "    sp = plt.subplot(1,4,pic_index - i)\n",
        "    sp.axis('Off') \n",
        "    img = mpimg.imread(img_path)\n",
        "    plt.imshow(img)\n",
        "    i+=1\n",
        "\n",
        "plt.show()"
      ],
      "execution_count": null,
      "outputs": []
    },
    {
      "cell_type": "code",
      "metadata": {
        "id": "EIR0w088Uval"
      },
      "source": [
        "# Splitting the training dataset into training and validation sets for our tuning. \n",
        "from sklearn.model_selection import train_test_split\n",
        "train_df, test_df = train_test_split(data, test_size = 0.25, stratify = data['Multiclass_Diagnosis'])"
      ],
      "execution_count": null,
      "outputs": []
    },
    {
      "cell_type": "code",
      "metadata": {
        "id": "tu0qxcNpU_PW",
        "outputId": "cfdfe499-d456-463d-df63-b3ee8aff62a5",
        "colab": {
          "base_uri": "https://localhost:8080/",
          "height": 313
        }
      },
      "source": [
        "# Print out the number of instances of each label in our training dataset\n",
        "print(train_df['Multiclass_Diagnosis'].value_counts())\n",
        "print('Shape of the train_df dataframe: ', train_df.shape)\n",
        "train_df.head()"
      ],
      "execution_count": null,
      "outputs": [
        {
          "output_type": "stream",
          "text": [
            "No DR               1354\n",
            "Moderate             749\n",
            "Mild                 277\n",
            "Proliferative DR     221\n",
            "Severe               145\n",
            "Name: Multiclass_Diagnosis, dtype: int64\n",
            "Shape of the train_df dataframe:  (2746, 4)\n"
          ],
          "name": "stdout"
        },
        {
          "output_type": "execute_result",
          "data": {
            "text/html": [
              "<div>\n",
              "<style scoped>\n",
              "    .dataframe tbody tr th:only-of-type {\n",
              "        vertical-align: middle;\n",
              "    }\n",
              "\n",
              "    .dataframe tbody tr th {\n",
              "        vertical-align: top;\n",
              "    }\n",
              "\n",
              "    .dataframe thead th {\n",
              "        text-align: right;\n",
              "    }\n",
              "</style>\n",
              "<table border=\"1\" class=\"dataframe\">\n",
              "  <thead>\n",
              "    <tr style=\"text-align: right;\">\n",
              "      <th></th>\n",
              "      <th>id_code</th>\n",
              "      <th>diagnosis</th>\n",
              "      <th>Multiclass_Diagnosis</th>\n",
              "      <th>img_id</th>\n",
              "    </tr>\n",
              "  </thead>\n",
              "  <tbody>\n",
              "    <tr>\n",
              "      <th>190</th>\n",
              "      <td>0dce95217626</td>\n",
              "      <td>1</td>\n",
              "      <td>Mild</td>\n",
              "      <td>0dce95217626.png</td>\n",
              "    </tr>\n",
              "    <tr>\n",
              "      <th>1037</th>\n",
              "      <td>4a44cc840ebe</td>\n",
              "      <td>2</td>\n",
              "      <td>Moderate</td>\n",
              "      <td>4a44cc840ebe.png</td>\n",
              "    </tr>\n",
              "    <tr>\n",
              "      <th>2647</th>\n",
              "      <td>b7983cb3f270</td>\n",
              "      <td>0</td>\n",
              "      <td>No DR</td>\n",
              "      <td>b7983cb3f270.png</td>\n",
              "    </tr>\n",
              "    <tr>\n",
              "      <th>2497</th>\n",
              "      <td>ad20080452de</td>\n",
              "      <td>0</td>\n",
              "      <td>No DR</td>\n",
              "      <td>ad20080452de.png</td>\n",
              "    </tr>\n",
              "    <tr>\n",
              "      <th>439</th>\n",
              "      <td>1f07dae3cadb</td>\n",
              "      <td>2</td>\n",
              "      <td>Moderate</td>\n",
              "      <td>1f07dae3cadb.png</td>\n",
              "    </tr>\n",
              "  </tbody>\n",
              "</table>\n",
              "</div>"
            ],
            "text/plain": [
              "           id_code  diagnosis Multiclass_Diagnosis            img_id\n",
              "190   0dce95217626          1                 Mild  0dce95217626.png\n",
              "1037  4a44cc840ebe          2             Moderate  4a44cc840ebe.png\n",
              "2647  b7983cb3f270          0                No DR  b7983cb3f270.png\n",
              "2497  ad20080452de          0                No DR  ad20080452de.png\n",
              "439   1f07dae3cadb          2             Moderate  1f07dae3cadb.png"
            ]
          },
          "metadata": {
            "tags": []
          },
          "execution_count": 11
        }
      ]
    },
    {
      "cell_type": "code",
      "metadata": {
        "id": "a_8qUhvQVBYh",
        "outputId": "e2712eb7-274f-487a-a933-c044f38b085d",
        "colab": {
          "base_uri": "https://localhost:8080/",
          "height": 313
        }
      },
      "source": [
        "# Print out the number of instances of each label in our validation dataset\n",
        "print(test_df['Multiclass_Diagnosis'].value_counts())\n",
        "print('Shape of the test_df dataframe: ', test_df.shape)\n",
        "test_df.head()"
      ],
      "execution_count": null,
      "outputs": [
        {
          "output_type": "stream",
          "text": [
            "No DR               451\n",
            "Moderate            250\n",
            "Mild                 93\n",
            "Proliferative DR     74\n",
            "Severe               48\n",
            "Name: Multiclass_Diagnosis, dtype: int64\n",
            "Shape of the test_df dataframe:  (916, 4)\n"
          ],
          "name": "stdout"
        },
        {
          "output_type": "execute_result",
          "data": {
            "text/html": [
              "<div>\n",
              "<style scoped>\n",
              "    .dataframe tbody tr th:only-of-type {\n",
              "        vertical-align: middle;\n",
              "    }\n",
              "\n",
              "    .dataframe tbody tr th {\n",
              "        vertical-align: top;\n",
              "    }\n",
              "\n",
              "    .dataframe thead th {\n",
              "        text-align: right;\n",
              "    }\n",
              "</style>\n",
              "<table border=\"1\" class=\"dataframe\">\n",
              "  <thead>\n",
              "    <tr style=\"text-align: right;\">\n",
              "      <th></th>\n",
              "      <th>id_code</th>\n",
              "      <th>diagnosis</th>\n",
              "      <th>Multiclass_Diagnosis</th>\n",
              "      <th>img_id</th>\n",
              "    </tr>\n",
              "  </thead>\n",
              "  <tbody>\n",
              "    <tr>\n",
              "      <th>417</th>\n",
              "      <td>1dd9adcbfff4</td>\n",
              "      <td>2</td>\n",
              "      <td>Moderate</td>\n",
              "      <td>1dd9adcbfff4.png</td>\n",
              "    </tr>\n",
              "    <tr>\n",
              "      <th>3326</th>\n",
              "      <td>e6a58edc5b42</td>\n",
              "      <td>2</td>\n",
              "      <td>Moderate</td>\n",
              "      <td>e6a58edc5b42.png</td>\n",
              "    </tr>\n",
              "    <tr>\n",
              "      <th>1750</th>\n",
              "      <td>7ba6b23c4b46</td>\n",
              "      <td>0</td>\n",
              "      <td>No DR</td>\n",
              "      <td>7ba6b23c4b46.png</td>\n",
              "    </tr>\n",
              "    <tr>\n",
              "      <th>2442</th>\n",
              "      <td>a9e3d186cd1b</td>\n",
              "      <td>0</td>\n",
              "      <td>No DR</td>\n",
              "      <td>a9e3d186cd1b.png</td>\n",
              "    </tr>\n",
              "    <tr>\n",
              "      <th>273</th>\n",
              "      <td>14e3f84445f7</td>\n",
              "      <td>3</td>\n",
              "      <td>Severe</td>\n",
              "      <td>14e3f84445f7.png</td>\n",
              "    </tr>\n",
              "  </tbody>\n",
              "</table>\n",
              "</div>"
            ],
            "text/plain": [
              "           id_code  diagnosis Multiclass_Diagnosis            img_id\n",
              "417   1dd9adcbfff4          2             Moderate  1dd9adcbfff4.png\n",
              "3326  e6a58edc5b42          2             Moderate  e6a58edc5b42.png\n",
              "1750  7ba6b23c4b46          0                No DR  7ba6b23c4b46.png\n",
              "2442  a9e3d186cd1b          0                No DR  a9e3d186cd1b.png\n",
              "273   14e3f84445f7          3               Severe  14e3f84445f7.png"
            ]
          },
          "metadata": {
            "tags": []
          },
          "execution_count": 12
        }
      ]
    },
    {
      "cell_type": "code",
      "metadata": {
        "id": "udiIk_GMVDwj"
      },
      "source": [
        "# Setting the dimensions of our images.\n",
        "\n",
        "img_width, img_height = 224, 224\n",
        "\n",
        "imgs_dir = '/content/drive/My Drive/Aptos Dataset/train_images/'\n",
        "\n",
        "epochs = 5 # try more if you have patience. The model takes a long time to train even on GPU runtime (~40-45 mins per epoch)\n",
        "batch_size = 20 # try 16, 32 etc."
      ],
      "execution_count": null,
      "outputs": []
    },
    {
      "cell_type": "code",
      "metadata": {
        "id": "dRdl_PbQVm1L"
      },
      "source": [
        "# Setting the input shape format: 3 is the color channels (RGB)\n",
        "\n",
        "if K.image_data_format() == 'channels_first':\n",
        "    input_shape = (3, img_width, img_height)\n",
        "else:\n",
        "    input_shape = (img_width, img_height, 3)"
      ],
      "execution_count": null,
      "outputs": []
    },
    {
      "cell_type": "code",
      "metadata": {
        "id": "YecLsw4bVqPV",
        "outputId": "51e4756f-a27e-4615-d046-fb100a843ab9",
        "colab": {
          "base_uri": "https://localhost:8080/",
          "height": 958
        }
      },
      "source": [
        "# Loading the vgg16 model from keras with imagenet weights, setting the input shape for our interests \n",
        "\n",
        "vgg = keras.applications.vgg16.VGG16(include_top=True\n",
        "                                     , weights='imagenet'\n",
        "                                     , input_tensor=None\n",
        "                                     , input_shape=input_shape\n",
        "                                     , pooling=None)\n",
        "vgg.summary()                                                                   # print out the model summary"
      ],
      "execution_count": null,
      "outputs": [
        {
          "output_type": "stream",
          "text": [
            "Downloading data from https://github.com/fchollet/deep-learning-models/releases/download/v0.1/vgg16_weights_tf_dim_ordering_tf_kernels.h5\n",
            "553467904/553467096 [==============================] - 13s 0us/step\n",
            "Model: \"vgg16\"\n",
            "_________________________________________________________________\n",
            "Layer (type)                 Output Shape              Param #   \n",
            "=================================================================\n",
            "input_1 (InputLayer)         (None, 224, 224, 3)       0         \n",
            "_________________________________________________________________\n",
            "block1_conv1 (Conv2D)        (None, 224, 224, 64)      1792      \n",
            "_________________________________________________________________\n",
            "block1_conv2 (Conv2D)        (None, 224, 224, 64)      36928     \n",
            "_________________________________________________________________\n",
            "block1_pool (MaxPooling2D)   (None, 112, 112, 64)      0         \n",
            "_________________________________________________________________\n",
            "block2_conv1 (Conv2D)        (None, 112, 112, 128)     73856     \n",
            "_________________________________________________________________\n",
            "block2_conv2 (Conv2D)        (None, 112, 112, 128)     147584    \n",
            "_________________________________________________________________\n",
            "block2_pool (MaxPooling2D)   (None, 56, 56, 128)       0         \n",
            "_________________________________________________________________\n",
            "block3_conv1 (Conv2D)        (None, 56, 56, 256)       295168    \n",
            "_________________________________________________________________\n",
            "block3_conv2 (Conv2D)        (None, 56, 56, 256)       590080    \n",
            "_________________________________________________________________\n",
            "block3_conv3 (Conv2D)        (None, 56, 56, 256)       590080    \n",
            "_________________________________________________________________\n",
            "block3_pool (MaxPooling2D)   (None, 28, 28, 256)       0         \n",
            "_________________________________________________________________\n",
            "block4_conv1 (Conv2D)        (None, 28, 28, 512)       1180160   \n",
            "_________________________________________________________________\n",
            "block4_conv2 (Conv2D)        (None, 28, 28, 512)       2359808   \n",
            "_________________________________________________________________\n",
            "block4_conv3 (Conv2D)        (None, 28, 28, 512)       2359808   \n",
            "_________________________________________________________________\n",
            "block4_pool (MaxPooling2D)   (None, 14, 14, 512)       0         \n",
            "_________________________________________________________________\n",
            "block5_conv1 (Conv2D)        (None, 14, 14, 512)       2359808   \n",
            "_________________________________________________________________\n",
            "block5_conv2 (Conv2D)        (None, 14, 14, 512)       2359808   \n",
            "_________________________________________________________________\n",
            "block5_conv3 (Conv2D)        (None, 14, 14, 512)       2359808   \n",
            "_________________________________________________________________\n",
            "block5_pool (MaxPooling2D)   (None, 7, 7, 512)         0         \n",
            "_________________________________________________________________\n",
            "flatten (Flatten)            (None, 25088)             0         \n",
            "_________________________________________________________________\n",
            "fc1 (Dense)                  (None, 4096)              102764544 \n",
            "_________________________________________________________________\n",
            "fc2 (Dense)                  (None, 4096)              16781312  \n",
            "_________________________________________________________________\n",
            "predictions (Dense)          (None, 1000)              4097000   \n",
            "=================================================================\n",
            "Total params: 138,357,544\n",
            "Trainable params: 138,357,544\n",
            "Non-trainable params: 0\n",
            "_________________________________________________________________\n"
          ],
          "name": "stdout"
        }
      ]
    },
    {
      "cell_type": "code",
      "metadata": {
        "id": "fPJchKIsVtkt",
        "outputId": "82b76abf-fadd-4d2f-8651-fbb38d92ffea",
        "colab": {
          "base_uri": "https://localhost:8080/",
          "height": 437
        }
      },
      "source": [
        "# Print the total number of layers\n",
        "print(len(vgg.layers))\n",
        "print()\n",
        "#Print out the layers in vgg model\n",
        "for layer in vgg.layers: \n",
        "    print(layer)\n",
        "\n",
        "# Freeze the training weights until the flattening layer and only train the final 2 fully-connected layers and an updated final o/p layer with only one node \n",
        "for layer in vgg.layers[:20]:\n",
        "    layer.trainable=False"
      ],
      "execution_count": null,
      "outputs": [
        {
          "output_type": "stream",
          "text": [
            "23\n",
            "\n",
            "<keras.engine.input_layer.InputLayer object at 0x7f776ea2a978>\n",
            "<keras.layers.convolutional.Conv2D object at 0x7f776eee5ef0>\n",
            "<keras.layers.convolutional.Conv2D object at 0x7f776f90bd30>\n",
            "<keras.layers.pooling.MaxPooling2D object at 0x7f776f90bf28>\n",
            "<keras.layers.convolutional.Conv2D object at 0x7f776ea2a048>\n",
            "<keras.layers.convolutional.Conv2D object at 0x7f776ea61cf8>\n",
            "<keras.layers.pooling.MaxPooling2D object at 0x7f776d1f5898>\n",
            "<keras.layers.convolutional.Conv2D object at 0x7f776d1f56d8>\n",
            "<keras.layers.convolutional.Conv2D object at 0x7f776d1fc3c8>\n",
            "<keras.layers.convolutional.Conv2D object at 0x7f776d1fcda0>\n",
            "<keras.layers.pooling.MaxPooling2D object at 0x7f776d2029e8>\n",
            "<keras.layers.convolutional.Conv2D object at 0x7f776d202828>\n",
            "<keras.layers.convolutional.Conv2D object at 0x7f776d209518>\n",
            "<keras.layers.convolutional.Conv2D object at 0x7f776d209e48>\n",
            "<keras.layers.pooling.MaxPooling2D object at 0x7f776d210b38>\n",
            "<keras.layers.convolutional.Conv2D object at 0x7f776d210978>\n",
            "<keras.layers.convolutional.Conv2D object at 0x7f776d217668>\n",
            "<keras.layers.convolutional.Conv2D object at 0x7f776d217e10>\n",
            "<keras.layers.pooling.MaxPooling2D object at 0x7f776d221c88>\n",
            "<keras.layers.core.Flatten object at 0x7f776d221ac8>\n",
            "<keras.layers.core.Dense object at 0x7f776d221d30>\n",
            "<keras.layers.core.Dense object at 0x7f776d1ac5c0>\n",
            "<keras.layers.core.Dense object at 0x7f776d1acdd8>\n"
          ],
          "name": "stdout"
        }
      ]
    },
    {
      "cell_type": "code",
      "metadata": {
        "id": "8SbjtD03WALt"
      },
      "source": [
        "# Change the final dense layer to 5 nodes (softmax activation) for multi-class classification\n",
        "x = vgg.layers[-2].output\n",
        "output_layer = Dense(5, activation='softmax', name='predictions')(x)"
      ],
      "execution_count": null,
      "outputs": []
    },
    {
      "cell_type": "code",
      "metadata": {
        "id": "WK_A1qGsWUY1"
      },
      "source": [
        "# Combine the output layer to the original model\n",
        "vgg_mc = Model(inputs=vgg.input, outputs=output_layer)"
      ],
      "execution_count": null,
      "outputs": []
    },
    {
      "cell_type": "code",
      "metadata": {
        "id": "NZkZhprNWZvb",
        "outputId": "26aee499-bacc-4d09-ae6a-2e95458ecda3",
        "colab": {
          "base_uri": "https://localhost:8080/",
          "height": 924
        }
      },
      "source": [
        "# Sanity check: Print out the model summary. The final layer should have 5 nodes (using softmax activation)\n",
        "vgg_mc.summary()"
      ],
      "execution_count": null,
      "outputs": [
        {
          "output_type": "stream",
          "text": [
            "Model: \"model_1\"\n",
            "_________________________________________________________________\n",
            "Layer (type)                 Output Shape              Param #   \n",
            "=================================================================\n",
            "input_1 (InputLayer)         (None, 224, 224, 3)       0         \n",
            "_________________________________________________________________\n",
            "block1_conv1 (Conv2D)        (None, 224, 224, 64)      1792      \n",
            "_________________________________________________________________\n",
            "block1_conv2 (Conv2D)        (None, 224, 224, 64)      36928     \n",
            "_________________________________________________________________\n",
            "block1_pool (MaxPooling2D)   (None, 112, 112, 64)      0         \n",
            "_________________________________________________________________\n",
            "block2_conv1 (Conv2D)        (None, 112, 112, 128)     73856     \n",
            "_________________________________________________________________\n",
            "block2_conv2 (Conv2D)        (None, 112, 112, 128)     147584    \n",
            "_________________________________________________________________\n",
            "block2_pool (MaxPooling2D)   (None, 56, 56, 128)       0         \n",
            "_________________________________________________________________\n",
            "block3_conv1 (Conv2D)        (None, 56, 56, 256)       295168    \n",
            "_________________________________________________________________\n",
            "block3_conv2 (Conv2D)        (None, 56, 56, 256)       590080    \n",
            "_________________________________________________________________\n",
            "block3_conv3 (Conv2D)        (None, 56, 56, 256)       590080    \n",
            "_________________________________________________________________\n",
            "block3_pool (MaxPooling2D)   (None, 28, 28, 256)       0         \n",
            "_________________________________________________________________\n",
            "block4_conv1 (Conv2D)        (None, 28, 28, 512)       1180160   \n",
            "_________________________________________________________________\n",
            "block4_conv2 (Conv2D)        (None, 28, 28, 512)       2359808   \n",
            "_________________________________________________________________\n",
            "block4_conv3 (Conv2D)        (None, 28, 28, 512)       2359808   \n",
            "_________________________________________________________________\n",
            "block4_pool (MaxPooling2D)   (None, 14, 14, 512)       0         \n",
            "_________________________________________________________________\n",
            "block5_conv1 (Conv2D)        (None, 14, 14, 512)       2359808   \n",
            "_________________________________________________________________\n",
            "block5_conv2 (Conv2D)        (None, 14, 14, 512)       2359808   \n",
            "_________________________________________________________________\n",
            "block5_conv3 (Conv2D)        (None, 14, 14, 512)       2359808   \n",
            "_________________________________________________________________\n",
            "block5_pool (MaxPooling2D)   (None, 7, 7, 512)         0         \n",
            "_________________________________________________________________\n",
            "flatten (Flatten)            (None, 25088)             0         \n",
            "_________________________________________________________________\n",
            "fc1 (Dense)                  (None, 4096)              102764544 \n",
            "_________________________________________________________________\n",
            "fc2 (Dense)                  (None, 4096)              16781312  \n",
            "_________________________________________________________________\n",
            "predictions (Dense)          (None, 5)                 20485     \n",
            "=================================================================\n",
            "Total params: 134,281,029\n",
            "Trainable params: 119,566,341\n",
            "Non-trainable params: 14,714,688\n",
            "_________________________________________________________________\n"
          ],
          "name": "stdout"
        }
      ]
    },
    {
      "cell_type": "code",
      "metadata": {
        "id": "b7_lP01FWhh8"
      },
      "source": [
        "# Compile the modified vgg model with the following hyperparameters\n",
        "# In future try different learning rates for the adam 'adaptive moment estimation'\n",
        "# The loss function is going to be sparse_categorical_crossentropy since the class labels are integers (refer the Keras API docs for different loss function options)\n",
        "vgg_mc.compile(optimizer='adam', loss='sparse_categorical_crossentropy', metrics=['accuracy'])"
      ],
      "execution_count": null,
      "outputs": []
    },
    {
      "cell_type": "code",
      "metadata": {
        "id": "wK5fOiCHWsV9"
      },
      "source": [
        "# Defining Image transformations: normalization (rescaling) for both training and testing images\n",
        "# Defining Image transformations: Augmenting the training data with the following transformation - (only allowing random horizontal flips) \n",
        "train_datagen = ImageDataGenerator(\n",
        "    rescale=1. / 255,\n",
        "    #shear_range=0.2,\n",
        "    #zoom_range=0.2,\n",
        "    horizontal_flip=True)\n",
        "\n",
        "test_datagen = ImageDataGenerator(rescale=1./255)"
      ],
      "execution_count": null,
      "outputs": []
    },
    {
      "cell_type": "code",
      "metadata": {
        "id": "5BJTrC6VXGYh",
        "outputId": "47c192ea-0c6e-4458-9acd-1334d4ca4c1f",
        "colab": {
          "base_uri": "https://localhost:8080/",
          "height": 84
        }
      },
      "source": [
        "# Setting up the flow of images in batches for training and validation\n",
        "\n",
        "train_generator = train_datagen.flow_from_dataframe(\n",
        "    train_df,\n",
        "    directory=imgs_dir,\n",
        "    x_col=\"img_id\",\n",
        "    y_col=\"Multiclass_Diagnosis\",\n",
        "    target_size=(img_width, img_height),\n",
        "    class_mode=\"sparse\",\n",
        "    batch_size=batch_size\n",
        "   )\n",
        "\n",
        "validation_generator = test_datagen.flow_from_dataframe(\n",
        "    test_df,\n",
        "    directory=imgs_dir,\n",
        "    x_col=\"img_id\",\n",
        "    y_col=\"Multiclass_Diagnosis\",\n",
        "    target_size=(img_width, img_height),\n",
        "    class_mode=\"sparse\",\n",
        "    batch_size=batch_size\n",
        "   )\n",
        "# Printing out the class labels for both training and validation sets\n",
        "print(train_generator.class_indices)\n",
        "print(validation_generator.class_indices)"
      ],
      "execution_count": null,
      "outputs": [
        {
          "output_type": "stream",
          "text": [
            "Found 2746 validated image filenames belonging to 5 classes.\n",
            "Found 916 validated image filenames belonging to 5 classes.\n",
            "{'Mild': 0, 'Moderate': 1, 'No DR': 2, 'Proliferative DR': 3, 'Severe': 4}\n",
            "{'Mild': 0, 'Moderate': 1, 'No DR': 2, 'Proliferative DR': 3, 'Severe': 4}\n"
          ],
          "name": "stdout"
        }
      ]
    },
    {
      "cell_type": "markdown",
      "metadata": {
        "id": "SyEM89ZLZlWP"
      },
      "source": [
        "### **Data Composition - percentage mix of the images for each class label in the data**\n",
        "\n",
        "0.   No DR            - 1805/3662 = 49.29 % \n",
        "1.   Moderate         - 999/3662  = 27.28 % \n",
        "2.   Mild             - 370/3662  = 10.10 %\n",
        "3.   Severe           - 193/3662  = 5.27 %\n",
        "4.   Proliferative DR - 295/3662  = 8.05 %\n",
        "\n",
        "\n",
        "\n"
      ]
    },
    {
      "cell_type": "code",
      "metadata": {
        "id": "rk0IlffQXsKH",
        "outputId": "f9e71cfe-e60e-4fd4-ff95-b04d46de7601",
        "colab": {
          "base_uri": "https://localhost:8080/",
          "height": 322
        }
      },
      "source": [
        "history = vgg_mc.fit_generator(\n",
        "        train_generator,\n",
        "        steps_per_epoch=2746 // batch_size,\n",
        "        epochs=epochs,\n",
        "        # Class_Weight argument expects a dictionary for the class labels (as detected by the train generators) as keys and their weights as values.\n",
        "        # This instructs the loss calculations during training to pay more attention to underrepresented classes. Please try training with class_weights once.\n",
        "        #class_weight = {0:0.25, 1:0.10, 2:0.05, 3:0.30, 4:0.30},                         \n",
        "        validation_data=validation_generator,\n",
        "        validation_steps=916 // batch_size)\n",
        "\n",
        "vgg_mc.save('/content/drive/My Drive/Aptos Dataset/Final_Multiclass_Model.h5')\n",
        "print('Saved the model to disk.')"
      ],
      "execution_count": null,
      "outputs": [
        {
          "output_type": "stream",
          "text": [
            "Epoch 1/5\n",
            "137/137 [==============================] - 2576s 19s/step - loss: 2.2316 - accuracy: 0.6607 - val_loss: 0.8514 - val_accuracy: 0.6733\n",
            "Epoch 2/5\n",
            "137/137 [==============================] - 1992s 15s/step - loss: 0.7711 - accuracy: 0.7274 - val_loss: 0.4418 - val_accuracy: 0.6830\n",
            "Epoch 3/5\n",
            "137/137 [==============================] - 2066s 15s/step - loss: 0.7398 - accuracy: 0.7282 - val_loss: 1.0175 - val_accuracy: 0.7288\n",
            "Epoch 4/5\n",
            "137/137 [==============================] - 2017s 15s/step - loss: 0.7041 - accuracy: 0.7395 - val_loss: 0.9373 - val_accuracy: 0.7277\n",
            "Epoch 5/5\n",
            " 40/137 [=======>......................] - ETA: 12:59 - loss: 0.6905 - accuracy: 0.7275"
          ],
          "name": "stdout"
        },
        {
          "output_type": "stream",
          "text": [
            "/usr/local/lib/python3.6/dist-packages/keras/utils/data_utils.py:616: UserWarning: The input 112 could not be retrieved. It could be because a worker has died.\n",
            "  UserWarning)\n"
          ],
          "name": "stderr"
        },
        {
          "output_type": "stream",
          "text": [
            "136/137 [============================>.] - ETA: 11s - loss: 0.6885 - accuracy: 0.7373"
          ],
          "name": "stdout"
        },
        {
          "output_type": "stream",
          "text": [
            "/usr/local/lib/python3.6/dist-packages/keras/utils/data_utils.py:616: UserWarning: The input 8 could not be retrieved. It could be because a worker has died.\n",
            "  UserWarning)\n",
            "/usr/local/lib/python3.6/dist-packages/keras/utils/data_utils.py:616: UserWarning: The input 28 could not be retrieved. It could be because a worker has died.\n",
            "  UserWarning)\n"
          ],
          "name": "stderr"
        },
        {
          "output_type": "stream",
          "text": [
            "\b\b\b\b\b\b\b\b\b\b\b\b\b\b\b\b\b\b\b\b\b\b\b\b\b\b\b\b\b\b\b\b\b\b\b\b\b\b\b\b\b\b\b\b\b\b\b\b\b\b\b\b\b\b\b\b\b\b\b\b\b\b\b\b\b\b\b\b\b\b\b\b\b\b\b\b\b\b\b\b\b\b\b\b\b\r137/137 [==============================] - 2165s 16s/step - loss: 0.6873 - accuracy: 0.7381 - val_loss: 1.1775 - val_accuracy: 0.7422\n",
            "Saved the model to disk.\n"
          ],
          "name": "stdout"
        }
      ]
    },
    {
      "cell_type": "code",
      "metadata": {
        "id": "hGiXwkZxejb7",
        "outputId": "66574de6-7ec2-4a8c-bcd9-18c650ef984d",
        "colab": {
          "base_uri": "https://localhost:8080/",
          "height": 312
        }
      },
      "source": [
        "# Print out the metrics recorded during training (saved in the history)\n",
        "print(history.history.keys())\n",
        "\n",
        "# summarize history for accuracy\n",
        "plt.plot(history.history['accuracy'])\n",
        "plt.plot(history.history['val_accuracy'])\n",
        "plt.title('model accuracy')\n",
        "plt.ylabel('accuracy')\n",
        "plt.xlabel('epoch')\n",
        "plt.legend(['train', 'test'], loc='upper left')\n",
        "plt.show()"
      ],
      "execution_count": null,
      "outputs": [
        {
          "output_type": "stream",
          "text": [
            "dict_keys(['val_loss', 'val_accuracy', 'loss', 'accuracy'])\n"
          ],
          "name": "stdout"
        },
        {
          "output_type": "display_data",
          "data": {
            "image/png": "[encoded data removed]",
            "text/plain": [
              "<Figure size 432x288 with 1 Axes>"
            ]
          },
          "metadata": {
            "tags": [],
            "needs_background": "light"
          }
        }
      ]
    },
    {
      "cell_type": "code",
      "metadata": {
        "id": "65pqV3kCetAU",
        "outputId": "e234f207-cbef-4521-8945-38b8a424e10d",
        "colab": {
          "base_uri": "https://localhost:8080/",
          "height": 295
        }
      },
      "source": [
        "# summarize history for loss\n",
        "plt.plot(history.history['loss'])\n",
        "plt.plot(history.history['val_loss'])\n",
        "plt.title('model loss')\n",
        "plt.ylabel('loss')\n",
        "plt.xlabel('epoch')\n",
        "plt.legend(['train', 'test'], loc='upper left')\n",
        "plt.show()"
      ],
      "execution_count": null,
      "outputs": [
        {
          "output_type": "display_data",
          "data": {
            "image/png": "[encoded data removed]",
            "text/plain": [
              "<Figure size 432x288 with 1 Axes>"
            ]
          },
          "metadata": {
            "tags": [],
            "needs_background": "light"
          }
        }
      ]
    },
    {
      "cell_type": "code",
      "metadata": {
        "id": "cKUC7CvawuYf",
        "outputId": "2e191104-ef26-43aa-e958-24bbfeb08272",
        "colab": {
          "base_uri": "https://localhost:8080/",
          "height": 324
        }
      },
      "source": [
        "# Another way to plot all metrics in one plot, but here it is all over the place.\n",
        "pd.DataFrame(history.history).plot(figsize = (8,5))\n",
        "plt.grid(True)\n",
        "plt.gca().set_ylim(0,1)\n",
        "plt.show()"
      ],
      "execution_count": null,
      "outputs": [
        {
          "output_type": "display_data",
          "data": {
            "image/png": "[encoded data removed]",
            "text/plain": [
              "<Figure size 576x360 with 1 Axes>"
            ]
          },
          "metadata": {
            "tags": [],
            "needs_background": "light"
          }
        }
      ]
    }
  ]
}