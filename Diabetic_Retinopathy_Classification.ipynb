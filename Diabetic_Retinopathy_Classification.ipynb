{
  "nbformat": 4,
  "nbformat_minor": 0,
  "metadata": {
    "colab": {
      "name": "Diabetic_Retinopathy_Classification.ipynb",
      "provenance": [],
      "collapsed_sections": [],
      "mount_file_id": "1vgCJwJPxjigCV9hh2BvNTc_PShAUpo8v",
      "authorship_tag": "ABX9TyOLoRgVVXYcQcDJuaEPsWwy",
      "include_colab_link": true
    },
    "kernelspec": {
      "name": "python3",
      "display_name": "Python 3"
    },
    "accelerator": "GPU"
  },
  "cells": [
    {
      "cell_type": "markdown",
      "metadata": {
        "id": "view-in-github",
        "colab_type": "text"
      },
      "source": [
        "<a href=\"https://colab.research.google.com/github/atul6876/Diabetic_Retinopathy_Detection/blob/main/Diabetic_Retinopathy_Classification.ipynb\" target=\"_parent\"><img src=\"https://colab.research.google.com/assets/colab-badge.svg\" alt=\"Open In Colab\"/></a>"
      ]
    },
    {
      "cell_type": "markdown",
      "metadata": {
        "id": "9PU9IbBsFgAY"
      },
      "source": [
        "# **Diabetic Retinopathy Detection - Approach 1**\n",
        "\n",
        "*   We have 3662 images as our training dataset with labels for each stage of DR along with healthy fundus images. \n",
        "*   We can either design and train a model to detect each and every stage or we can build a model to just classify the difference between healthy and DR fundus images.\n",
        "* Keeping in mind the limitations of Google Colab in terms of GPU capabilitites, our first approach would be to build a model to just detect whether a fundus image is that of a healthy eye or of a person with any stage of Diabetic Retinopathy.\n",
        "\n",
        "\n",
        " \n",
        "\n",
        " \n",
        "\n"
      ]
    },
    {
      "cell_type": "code",
      "metadata": {
        "id": "Yl4znhoeFtRu",
        "outputId": "6b2f5c16-176a-4484-99ed-82a38ee2b6be",
        "colab": {
          "base_uri": "https://localhost:8080/",
          "height": 35
        }
      },
      "source": [
        "# Change Runtime Type to GPU. The code below checks if the GPU is provisioned for this runtime\n",
        "import tensorflow as tf\n",
        "tf.test.gpu_device_name()"
      ],
      "execution_count": null,
      "outputs": [
        {
          "output_type": "execute_result",
          "data": {
            "application/vnd.google.colaboratory.intrinsic+json": {
              "type": "string"
            },
            "text/plain": [
              "'/device:GPU:0'"
            ]
          },
          "metadata": {
            "tags": []
          },
          "execution_count": 1
        }
      ]
    },
    {
      "cell_type": "code",
      "metadata": {
        "id": "LcjbLJGEBKxC",
        "outputId": "9ed5fad8-56ae-4a7c-aa2d-5dc79c62f765",
        "colab": {
          "base_uri": "https://localhost:8080/",
          "height": 34
        }
      },
      "source": [
        "# Import the necessary modules\n",
        "\n",
        "import pandas as pd\n",
        "import numpy as np\n",
        "import matplotlib.pyplot as plt\n",
        "import keras\n",
        "import sklearn\n",
        "\n",
        "from keras.preprocessing.image import ImageDataGenerator\n",
        "from keras.models import Sequential, Model                                      # Model is useful to edit the layers of an existing model\n",
        "from keras.layers import Conv2D, MaxPooling2D\n",
        "from keras.layers import Activation, Dropout, Flatten, Dense\n",
        "from keras import backend as K"
      ],
      "execution_count": null,
      "outputs": [
        {
          "output_type": "stream",
          "text": [
            "Using TensorFlow backend.\n"
          ],
          "name": "stderr"
        }
      ]
    },
    {
      "cell_type": "code",
      "metadata": {
        "id": "39ECh68HFz3z",
        "outputId": "ffdae59c-dded-4cbe-aed2-a65cd4de897e",
        "colab": {
          "base_uri": "https://localhost:8080/",
          "height": 195
        }
      },
      "source": [
        "data = pd.read_csv('/content/drive/My Drive/Aptos Dataset/train.csv')\n",
        "data.head()"
      ],
      "execution_count": null,
      "outputs": [
        {
          "output_type": "execute_result",
          "data": {
            "text/html": [
              "<div>\n",
              "<style scoped>\n",
              "    .dataframe tbody tr th:only-of-type {\n",
              "        vertical-align: middle;\n",
              "    }\n",
              "\n",
              "    .dataframe tbody tr th {\n",
              "        vertical-align: top;\n",
              "    }\n",
              "\n",
              "    .dataframe thead th {\n",
              "        text-align: right;\n",
              "    }\n",
              "</style>\n",
              "<table border=\"1\" class=\"dataframe\">\n",
              "  <thead>\n",
              "    <tr style=\"text-align: right;\">\n",
              "      <th></th>\n",
              "      <th>id_code</th>\n",
              "      <th>diagnosis</th>\n",
              "    </tr>\n",
              "  </thead>\n",
              "  <tbody>\n",
              "    <tr>\n",
              "      <th>0</th>\n",
              "      <td>000c1434d8d7</td>\n",
              "      <td>2</td>\n",
              "    </tr>\n",
              "    <tr>\n",
              "      <th>1</th>\n",
              "      <td>001639a390f0</td>\n",
              "      <td>4</td>\n",
              "    </tr>\n",
              "    <tr>\n",
              "      <th>2</th>\n",
              "      <td>0024cdab0c1e</td>\n",
              "      <td>1</td>\n",
              "    </tr>\n",
              "    <tr>\n",
              "      <th>3</th>\n",
              "      <td>002c21358ce6</td>\n",
              "      <td>0</td>\n",
              "    </tr>\n",
              "    <tr>\n",
              "      <th>4</th>\n",
              "      <td>005b95c28852</td>\n",
              "      <td>0</td>\n",
              "    </tr>\n",
              "  </tbody>\n",
              "</table>\n",
              "</div>"
            ],
            "text/plain": [
              "        id_code  diagnosis\n",
              "0  000c1434d8d7          2\n",
              "1  001639a390f0          4\n",
              "2  0024cdab0c1e          1\n",
              "3  002c21358ce6          0\n",
              "4  005b95c28852          0"
            ]
          },
          "metadata": {
            "tags": []
          },
          "execution_count": 3
        }
      ]
    },
    {
      "cell_type": "code",
      "metadata": {
        "id": "xMYZ4sGhGKQg",
        "outputId": "a9cfa829-1e34-4c6a-b658-48b9a355df0d",
        "colab": {
          "base_uri": "https://localhost:8080/",
          "height": 118
        }
      },
      "source": [
        "data['diagnosis'].value_counts()"
      ],
      "execution_count": null,
      "outputs": [
        {
          "output_type": "execute_result",
          "data": {
            "text/plain": [
              "0    1805\n",
              "2     999\n",
              "1     370\n",
              "4     295\n",
              "3     193\n",
              "Name: diagnosis, dtype: int64"
            ]
          },
          "metadata": {
            "tags": []
          },
          "execution_count": 4
        }
      ]
    },
    {
      "cell_type": "markdown",
      "metadata": {
        "id": "tHlypDZ-MPlS"
      },
      "source": [
        "* Since our training images are all mixed in one single directory, we cannot use flow_from_directory method. Instead we use 'flow_from_dataframe' method.\n",
        "* One of the requirements of the flow_from_dataframe mehtod is that the image labels be in text format as a column in the dataframe.\n",
        "* The dataframe should also have the full image paths (with their format i.e. '.png', '.jpg' etc.) or full image names (example: 'imageid.png') with directory path provided as a separate argument."
      ]
    },
    {
      "cell_type": "code",
      "metadata": {
        "id": "6bIH3mH4GMve",
        "outputId": "ecf039b6-e697-41d8-f676-16bc7937031b",
        "colab": {
          "base_uri": "https://localhost:8080/",
          "height": 34
        }
      },
      "source": [
        "Binary_Diagnosis=[]\n",
        "for i in data['diagnosis']:\n",
        "    if i != 0:\n",
        "        Binary_Diagnosis.append('Retinopathy')\n",
        "    else:\n",
        "        Binary_Diagnosis.append('healthy')\n",
        "print(len(Binary_Diagnosis))"
      ],
      "execution_count": null,
      "outputs": [
        {
          "output_type": "stream",
          "text": [
            "3662\n"
          ],
          "name": "stdout"
        }
      ]
    },
    {
      "cell_type": "code",
      "metadata": {
        "id": "C8R2U2G5Ga_S",
        "outputId": "6a707952-a8f1-4f99-f0d7-368827583c7b",
        "colab": {
          "base_uri": "https://localhost:8080/",
          "height": 195
        }
      },
      "source": [
        "data['Binary_Diagnosis'] = Binary_Diagnosis\n",
        "data.head()"
      ],
      "execution_count": null,
      "outputs": [
        {
          "output_type": "execute_result",
          "data": {
            "text/html": [
              "<div>\n",
              "<style scoped>\n",
              "    .dataframe tbody tr th:only-of-type {\n",
              "        vertical-align: middle;\n",
              "    }\n",
              "\n",
              "    .dataframe tbody tr th {\n",
              "        vertical-align: top;\n",
              "    }\n",
              "\n",
              "    .dataframe thead th {\n",
              "        text-align: right;\n",
              "    }\n",
              "</style>\n",
              "<table border=\"1\" class=\"dataframe\">\n",
              "  <thead>\n",
              "    <tr style=\"text-align: right;\">\n",
              "      <th></th>\n",
              "      <th>id_code</th>\n",
              "      <th>diagnosis</th>\n",
              "      <th>Binary_Diagnosis</th>\n",
              "    </tr>\n",
              "  </thead>\n",
              "  <tbody>\n",
              "    <tr>\n",
              "      <th>0</th>\n",
              "      <td>000c1434d8d7</td>\n",
              "      <td>2</td>\n",
              "      <td>Retinopathy</td>\n",
              "    </tr>\n",
              "    <tr>\n",
              "      <th>1</th>\n",
              "      <td>001639a390f0</td>\n",
              "      <td>4</td>\n",
              "      <td>Retinopathy</td>\n",
              "    </tr>\n",
              "    <tr>\n",
              "      <th>2</th>\n",
              "      <td>0024cdab0c1e</td>\n",
              "      <td>1</td>\n",
              "      <td>Retinopathy</td>\n",
              "    </tr>\n",
              "    <tr>\n",
              "      <th>3</th>\n",
              "      <td>002c21358ce6</td>\n",
              "      <td>0</td>\n",
              "      <td>healthy</td>\n",
              "    </tr>\n",
              "    <tr>\n",
              "      <th>4</th>\n",
              "      <td>005b95c28852</td>\n",
              "      <td>0</td>\n",
              "      <td>healthy</td>\n",
              "    </tr>\n",
              "  </tbody>\n",
              "</table>\n",
              "</div>"
            ],
            "text/plain": [
              "        id_code  diagnosis Binary_Diagnosis\n",
              "0  000c1434d8d7          2      Retinopathy\n",
              "1  001639a390f0          4      Retinopathy\n",
              "2  0024cdab0c1e          1      Retinopathy\n",
              "3  002c21358ce6          0          healthy\n",
              "4  005b95c28852          0          healthy"
            ]
          },
          "metadata": {
            "tags": []
          },
          "execution_count": 6
        }
      ]
    },
    {
      "cell_type": "code",
      "metadata": {
        "id": "J1a5RFslmKxn",
        "outputId": "bd5cc686-85b5-405a-93ee-90311b3706e9",
        "colab": {
          "base_uri": "https://localhost:8080/",
          "height": 34
        }
      },
      "source": [
        "img_id = [(i+'.png') for i in data['id_code']]                                  # adding the image format '.png' to the image_id \n",
        "len(img_id)"
      ],
      "execution_count": null,
      "outputs": [
        {
          "output_type": "execute_result",
          "data": {
            "text/plain": [
              "3662"
            ]
          },
          "metadata": {
            "tags": []
          },
          "execution_count": 7
        }
      ]
    },
    {
      "cell_type": "code",
      "metadata": {
        "id": "6xKvo_ELm_In",
        "outputId": "e602ec96-2b0e-4d86-e430-dc9c52c17a54",
        "colab": {
          "base_uri": "https://localhost:8080/",
          "height": 195
        }
      },
      "source": [
        "data['img_id'] = img_id\n",
        "data.head()"
      ],
      "execution_count": null,
      "outputs": [
        {
          "output_type": "execute_result",
          "data": {
            "text/html": [
              "<div>\n",
              "<style scoped>\n",
              "    .dataframe tbody tr th:only-of-type {\n",
              "        vertical-align: middle;\n",
              "    }\n",
              "\n",
              "    .dataframe tbody tr th {\n",
              "        vertical-align: top;\n",
              "    }\n",
              "\n",
              "    .dataframe thead th {\n",
              "        text-align: right;\n",
              "    }\n",
              "</style>\n",
              "<table border=\"1\" class=\"dataframe\">\n",
              "  <thead>\n",
              "    <tr style=\"text-align: right;\">\n",
              "      <th></th>\n",
              "      <th>id_code</th>\n",
              "      <th>diagnosis</th>\n",
              "      <th>Binary_Diagnosis</th>\n",
              "      <th>img_id</th>\n",
              "    </tr>\n",
              "  </thead>\n",
              "  <tbody>\n",
              "    <tr>\n",
              "      <th>0</th>\n",
              "      <td>000c1434d8d7</td>\n",
              "      <td>2</td>\n",
              "      <td>Retinopathy</td>\n",
              "      <td>000c1434d8d7.png</td>\n",
              "    </tr>\n",
              "    <tr>\n",
              "      <th>1</th>\n",
              "      <td>001639a390f0</td>\n",
              "      <td>4</td>\n",
              "      <td>Retinopathy</td>\n",
              "      <td>001639a390f0.png</td>\n",
              "    </tr>\n",
              "    <tr>\n",
              "      <th>2</th>\n",
              "      <td>0024cdab0c1e</td>\n",
              "      <td>1</td>\n",
              "      <td>Retinopathy</td>\n",
              "      <td>0024cdab0c1e.png</td>\n",
              "    </tr>\n",
              "    <tr>\n",
              "      <th>3</th>\n",
              "      <td>002c21358ce6</td>\n",
              "      <td>0</td>\n",
              "      <td>healthy</td>\n",
              "      <td>002c21358ce6.png</td>\n",
              "    </tr>\n",
              "    <tr>\n",
              "      <th>4</th>\n",
              "      <td>005b95c28852</td>\n",
              "      <td>0</td>\n",
              "      <td>healthy</td>\n",
              "      <td>005b95c28852.png</td>\n",
              "    </tr>\n",
              "  </tbody>\n",
              "</table>\n",
              "</div>"
            ],
            "text/plain": [
              "        id_code  diagnosis Binary_Diagnosis            img_id\n",
              "0  000c1434d8d7          2      Retinopathy  000c1434d8d7.png\n",
              "1  001639a390f0          4      Retinopathy  001639a390f0.png\n",
              "2  0024cdab0c1e          1      Retinopathy  0024cdab0c1e.png\n",
              "3  002c21358ce6          0          healthy  002c21358ce6.png\n",
              "4  005b95c28852          0          healthy  005b95c28852.png"
            ]
          },
          "metadata": {
            "tags": []
          },
          "execution_count": 8
        }
      ]
    },
    {
      "cell_type": "code",
      "metadata": {
        "id": "SYKzB-rtGsoW",
        "outputId": "668ca7af-372d-4672-e47f-57c12657133c",
        "colab": {
          "base_uri": "https://localhost:8080/",
          "height": 67
        }
      },
      "source": [
        "data['Binary_Diagnosis'].value_counts()"
      ],
      "execution_count": null,
      "outputs": [
        {
          "output_type": "execute_result",
          "data": {
            "text/plain": [
              "Retinopathy    1857\n",
              "healthy        1805\n",
              "Name: Binary_Diagnosis, dtype: int64"
            ]
          },
          "metadata": {
            "tags": []
          },
          "execution_count": 9
        }
      ]
    },
    {
      "cell_type": "code",
      "metadata": {
        "id": "iLVSVesJISiR"
      },
      "source": [
        "from sklearn.model_selection import train_test_split\n",
        "\n",
        "train_df, test_df = train_test_split(data, test_size = 0.25, stratify = data['Binary_Diagnosis'])  # use test_size = 0.20\n",
        "\n",
        "#train_df.head()\n",
        "#test_df.head()"
      ],
      "execution_count": null,
      "outputs": []
    },
    {
      "cell_type": "code",
      "metadata": {
        "id": "D0F_jOGsJLYK",
        "outputId": "9d12111d-480c-451c-e6bf-9ec13456b041",
        "colab": {
          "base_uri": "https://localhost:8080/",
          "height": 67
        }
      },
      "source": [
        "train_df['Binary_Diagnosis'].value_counts()"
      ],
      "execution_count": null,
      "outputs": [
        {
          "output_type": "execute_result",
          "data": {
            "text/plain": [
              "Retinopathy    1392\n",
              "healthy        1354\n",
              "Name: Binary_Diagnosis, dtype: int64"
            ]
          },
          "metadata": {
            "tags": []
          },
          "execution_count": 11
        }
      ]
    },
    {
      "cell_type": "code",
      "metadata": {
        "id": "z7SEyILwJWTd",
        "outputId": "f04ceb10-7fc4-47be-e492-a644264625f5",
        "colab": {
          "base_uri": "https://localhost:8080/",
          "height": 67
        }
      },
      "source": [
        "test_df['Binary_Diagnosis'].value_counts()"
      ],
      "execution_count": null,
      "outputs": [
        {
          "output_type": "execute_result",
          "data": {
            "text/plain": [
              "Retinopathy    465\n",
              "healthy        451\n",
              "Name: Binary_Diagnosis, dtype: int64"
            ]
          },
          "metadata": {
            "tags": []
          },
          "execution_count": 12
        }
      ]
    },
    {
      "cell_type": "code",
      "metadata": {
        "id": "aqtenQOoGzaP"
      },
      "source": [
        "# Setting the dimensions of our images.\n",
        "\n",
        "img_width, img_height = 224, 224\n",
        "\n",
        "imgs_dir = '/content/drive/My Drive/Aptos Dataset/train_images/'  # make sure at the end there is a '/' after copying the folder path from your Google drive\n",
        "\n",
        "epochs = 5 \n",
        "batch_size = 16"
      ],
      "execution_count": null,
      "outputs": []
    },
    {
      "cell_type": "code",
      "metadata": {
        "id": "uNCkcl0gHeqx"
      },
      "source": [
        "# Setting the input shape format: 3 is the color channels (RGB)\n",
        "\n",
        "if K.image_data_format() == 'channels_first':\n",
        "    input_shape = (3, img_width, img_height)\n",
        "else:\n",
        "    input_shape = (img_width, img_height, 3)"
      ],
      "execution_count": null,
      "outputs": []
    },
    {
      "cell_type": "code",
      "metadata": {
        "id": "ohulpx_OHhZc",
        "outputId": "8caceb39-2525-4812-a478-c8dc4d847040",
        "colab": {
          "base_uri": "https://localhost:8080/",
          "height": 924
        }
      },
      "source": [
        "# Loading the vgg16 model from keras with imagenet weights, setting the input shape for our interests \n",
        "\n",
        "vgg = keras.applications.vgg16.VGG16(include_top=True\n",
        "                                     , weights='imagenet'\n",
        "                                     #, input_tensor=None\n",
        "                                     , input_shape=input_shape\n",
        "                                     #, pooling=None)\n",
        "vgg.summary()                                                                   # print out the model summary"
      ],
      "execution_count": null,
      "outputs": [
        {
          "output_type": "stream",
          "text": [
            "Model: \"vgg16\"\n",
            "_________________________________________________________________\n",
            "Layer (type)                 Output Shape              Param #   \n",
            "=================================================================\n",
            "input_1 (InputLayer)         (None, 224, 224, 3)       0         \n",
            "_________________________________________________________________\n",
            "block1_conv1 (Conv2D)        (None, 224, 224, 64)      1792      \n",
            "_________________________________________________________________\n",
            "block1_conv2 (Conv2D)        (None, 224, 224, 64)      36928     \n",
            "_________________________________________________________________\n",
            "block1_pool (MaxPooling2D)   (None, 112, 112, 64)      0         \n",
            "_________________________________________________________________\n",
            "block2_conv1 (Conv2D)        (None, 112, 112, 128)     73856     \n",
            "_________________________________________________________________\n",
            "block2_conv2 (Conv2D)        (None, 112, 112, 128)     147584    \n",
            "_________________________________________________________________\n",
            "block2_pool (MaxPooling2D)   (None, 56, 56, 128)       0         \n",
            "_________________________________________________________________\n",
            "block3_conv1 (Conv2D)        (None, 56, 56, 256)       295168    \n",
            "_________________________________________________________________\n",
            "block3_conv2 (Conv2D)        (None, 56, 56, 256)       590080    \n",
            "_________________________________________________________________\n",
            "block3_conv3 (Conv2D)        (None, 56, 56, 256)       590080    \n",
            "_________________________________________________________________\n",
            "block3_pool (MaxPooling2D)   (None, 28, 28, 256)       0         \n",
            "_________________________________________________________________\n",
            "block4_conv1 (Conv2D)        (None, 28, 28, 512)       1180160   \n",
            "_________________________________________________________________\n",
            "block4_conv2 (Conv2D)        (None, 28, 28, 512)       2359808   \n",
            "_________________________________________________________________\n",
            "block4_conv3 (Conv2D)        (None, 28, 28, 512)       2359808   \n",
            "_________________________________________________________________\n",
            "block4_pool (MaxPooling2D)   (None, 14, 14, 512)       0         \n",
            "_________________________________________________________________\n",
            "block5_conv1 (Conv2D)        (None, 14, 14, 512)       2359808   \n",
            "_________________________________________________________________\n",
            "block5_conv2 (Conv2D)        (None, 14, 14, 512)       2359808   \n",
            "_________________________________________________________________\n",
            "block5_conv3 (Conv2D)        (None, 14, 14, 512)       2359808   \n",
            "_________________________________________________________________\n",
            "block5_pool (MaxPooling2D)   (None, 7, 7, 512)         0         \n",
            "_________________________________________________________________\n",
            "flatten (Flatten)            (None, 25088)             0         \n",
            "_________________________________________________________________\n",
            "fc1 (Dense)                  (None, 4096)              102764544 \n",
            "_________________________________________________________________\n",
            "fc2 (Dense)                  (None, 4096)              16781312  \n",
            "_________________________________________________________________\n",
            "predictions (Dense)          (None, 1000)              4097000   \n",
            "=================================================================\n",
            "Total params: 138,357,544\n",
            "Trainable params: 138,357,544\n",
            "Non-trainable params: 0\n",
            "_________________________________________________________________\n"
          ],
          "name": "stdout"
        }
      ]
    },
    {
      "cell_type": "code",
      "metadata": {
        "id": "Ebme9nDQHlLy",
        "outputId": "7f5f1e36-56e9-40b8-d221-b4b3dc860a4e",
        "colab": {
          "base_uri": "https://localhost:8080/",
          "height": 437
        }
      },
      "source": [
        "# Print the total number of layers\n",
        "print(len(vgg.layers))\n",
        "print()\n",
        "#Print out the layers in vgg model\n",
        "for layer in vgg.layers: \n",
        "    print(layer)\n",
        "\n",
        "# Freeze the training weights until the flattening layer and only train the final 2 fully-connected layers and an updated final o/p layer with only one node \n",
        "for layer in vgg.layers[:20]:\n",
        "    layer.trainable=False"
      ],
      "execution_count": null,
      "outputs": [
        {
          "output_type": "stream",
          "text": [
            "23\n",
            "\n",
            "<keras.engine.input_layer.InputLayer object at 0x7fe8d092dd30>\n",
            "<keras.layers.convolutional.Conv2D object at 0x7fe8d0eb3c50>\n",
            "<keras.layers.convolutional.Conv2D object at 0x7fe8cffea710>\n",
            "<keras.layers.pooling.MaxPooling2D object at 0x7fe8cffeabe0>\n",
            "<keras.layers.convolutional.Conv2D object at 0x7fe8cffeab38>\n",
            "<keras.layers.convolutional.Conv2D object at 0x7fe8d0023b00>\n",
            "<keras.layers.pooling.MaxPooling2D object at 0x7fe8ce7ac6a0>\n",
            "<keras.layers.convolutional.Conv2D object at 0x7fe8ce7ac4e0>\n",
            "<keras.layers.convolutional.Conv2D object at 0x7fe8ce7acfd0>\n",
            "<keras.layers.convolutional.Conv2D object at 0x7fe8ce7b4d68>\n",
            "<keras.layers.pooling.MaxPooling2D object at 0x7fe8ce7ba7f0>\n",
            "<keras.layers.convolutional.Conv2D object at 0x7fe8ce7ba630>\n",
            "<keras.layers.convolutional.Conv2D object at 0x7fe8ce7c1320>\n",
            "<keras.layers.convolutional.Conv2D object at 0x7fe8ce7c1eb8>\n",
            "<keras.layers.pooling.MaxPooling2D object at 0x7fe8ce7c9940>\n",
            "<keras.layers.convolutional.Conv2D object at 0x7fe8ce7c9780>\n",
            "<keras.layers.convolutional.Conv2D object at 0x7fe8ce7d0470>\n",
            "<keras.layers.convolutional.Conv2D object at 0x7fe8ce7d0fd0>\n",
            "<keras.layers.pooling.MaxPooling2D object at 0x7fe8ce7d6a90>\n",
            "<keras.layers.core.Flatten object at 0x7fe8ce7d68d0>\n",
            "<keras.layers.core.Dense object at 0x7fe8ce7d6b38>\n",
            "<keras.layers.core.Dense object at 0x7fe8ce7653c8>\n",
            "<keras.layers.core.Dense object at 0x7fe8ce765cf8>\n"
          ],
          "name": "stdout"
        }
      ]
    },
    {
      "cell_type": "code",
      "metadata": {
        "id": "I51x4deZHp6S"
      },
      "source": [
        " # Change the final dense layer to 1 node (sigmoid activation) for binary classification\n",
        "# could do 2 nodes and determine the probabilities of each class using SoftMax, but we used Sigmoid for our simple ConvNet\n",
        "x = vgg.layers[-2].output\n",
        "output_layer = Dense(1, activation='sigmoid', name='predictions')(x)"
      ],
      "execution_count": null,
      "outputs": []
    },
    {
      "cell_type": "code",
      "metadata": {
        "id": "flRBVsfjHs2r"
      },
      "source": [
        "# Combine the output layer to the original model\n",
        "vgg_binary = Model(inputs=vgg.input, outputs=output_layer)"
      ],
      "execution_count": null,
      "outputs": []
    },
    {
      "cell_type": "code",
      "metadata": {
        "id": "DLo7JF9THvQQ",
        "outputId": "5071f36d-ea97-4370-ff35-72e9368caa18",
        "colab": {
          "base_uri": "https://localhost:8080/",
          "height": 924
        }
      },
      "source": [
        "# Sanity check: Print out the model summary. The final layer should have 1 node only (using sigmoid activation)\n",
        "vgg_binary.summary()"
      ],
      "execution_count": null,
      "outputs": [
        {
          "output_type": "stream",
          "text": [
            "Model: \"model_1\"\n",
            "_________________________________________________________________\n",
            "Layer (type)                 Output Shape              Param #   \n",
            "=================================================================\n",
            "input_1 (InputLayer)         (None, 224, 224, 3)       0         \n",
            "_________________________________________________________________\n",
            "block1_conv1 (Conv2D)        (None, 224, 224, 64)      1792      \n",
            "_________________________________________________________________\n",
            "block1_conv2 (Conv2D)        (None, 224, 224, 64)      36928     \n",
            "_________________________________________________________________\n",
            "block1_pool (MaxPooling2D)   (None, 112, 112, 64)      0         \n",
            "_________________________________________________________________\n",
            "block2_conv1 (Conv2D)        (None, 112, 112, 128)     73856     \n",
            "_________________________________________________________________\n",
            "block2_conv2 (Conv2D)        (None, 112, 112, 128)     147584    \n",
            "_________________________________________________________________\n",
            "block2_pool (MaxPooling2D)   (None, 56, 56, 128)       0         \n",
            "_________________________________________________________________\n",
            "block3_conv1 (Conv2D)        (None, 56, 56, 256)       295168    \n",
            "_________________________________________________________________\n",
            "block3_conv2 (Conv2D)        (None, 56, 56, 256)       590080    \n",
            "_________________________________________________________________\n",
            "block3_conv3 (Conv2D)        (None, 56, 56, 256)       590080    \n",
            "_________________________________________________________________\n",
            "block3_pool (MaxPooling2D)   (None, 28, 28, 256)       0         \n",
            "_________________________________________________________________\n",
            "block4_conv1 (Conv2D)        (None, 28, 28, 512)       1180160   \n",
            "_________________________________________________________________\n",
            "block4_conv2 (Conv2D)        (None, 28, 28, 512)       2359808   \n",
            "_________________________________________________________________\n",
            "block4_conv3 (Conv2D)        (None, 28, 28, 512)       2359808   \n",
            "_________________________________________________________________\n",
            "block4_pool (MaxPooling2D)   (None, 14, 14, 512)       0         \n",
            "_________________________________________________________________\n",
            "block5_conv1 (Conv2D)        (None, 14, 14, 512)       2359808   \n",
            "_________________________________________________________________\n",
            "block5_conv2 (Conv2D)        (None, 14, 14, 512)       2359808   \n",
            "_________________________________________________________________\n",
            "block5_conv3 (Conv2D)        (None, 14, 14, 512)       2359808   \n",
            "_________________________________________________________________\n",
            "block5_pool (MaxPooling2D)   (None, 7, 7, 512)         0         \n",
            "_________________________________________________________________\n",
            "flatten (Flatten)            (None, 25088)             0         \n",
            "_________________________________________________________________\n",
            "fc1 (Dense)                  (None, 4096)              102764544 \n",
            "_________________________________________________________________\n",
            "fc2 (Dense)                  (None, 4096)              16781312  \n",
            "_________________________________________________________________\n",
            "predictions (Dense)          (None, 1)                 4097      \n",
            "=================================================================\n",
            "Total params: 134,264,641\n",
            "Trainable params: 119,549,953\n",
            "Non-trainable params: 14,714,688\n",
            "_________________________________________________________________\n"
          ],
          "name": "stdout"
        }
      ]
    },
    {
      "cell_type": "code",
      "metadata": {
        "id": "PDS8FVYFHyO_"
      },
      "source": [
        "# Compile the modified vgg model with the following hyperparameters (same as simple ConvNet)\n",
        "# In future try different learning rates for the adam 'adaptive moment estimation'\n",
        "vgg_binary.compile(optimizer='adam', loss='binary_crossentropy', metrics=['accuracy'])"
      ],
      "execution_count": null,
      "outputs": []
    },
    {
      "cell_type": "code",
      "metadata": {
        "id": "f95ifCv8H3cU"
      },
      "source": [
        "# Defining Image transformations: normalization (rescaling) for both training and testing images\n",
        "# Defining Image transformations: Augmenting the training data with the following transformations \n",
        "train_datagen = ImageDataGenerator(\n",
        "    rescale=1. / 255,\n",
        "    horizontal_flip=True)\n",
        "\n",
        "test_datagen = ImageDataGenerator(rescale=1./255)"
      ],
      "execution_count": null,
      "outputs": []
    },
    {
      "cell_type": "code",
      "metadata": {
        "id": "uH_6GOWKH6je",
        "outputId": "60c1c0c1-8ce6-45ef-d948-7694984010b3",
        "colab": {
          "base_uri": "https://localhost:8080/",
          "height": 84
        }
      },
      "source": [
        "# Setting up the flow of images in batches for training and validation\n",
        "\n",
        "train_generator = train_datagen.flow_from_dataframe(\n",
        "    train_df,\n",
        "    directory=imgs_dir,\n",
        "    x_col=\"img_id\",\n",
        "    y_col=\"Binary_Diagnosis\",\n",
        "    target_size=(img_width, img_height),\n",
        "    class_mode=\"binary\",\n",
        "    batch_size=batch_size\n",
        "   )\n",
        "\n",
        "validation_generator = test_datagen.flow_from_dataframe(\n",
        "    test_df,\n",
        "    directory=imgs_dir,\n",
        "    x_col=\"img_id\",\n",
        "    y_col=\"Binary_Diagnosis\",\n",
        "    target_size=(img_width, img_height),\n",
        "    class_mode=\"binary\",\n",
        "    batch_size=batch_size\n",
        "   )\n",
        "# Printing out the class labels for both training and validation sets\n",
        "print(train_generator.class_indices)\n",
        "print(validation_generator.class_indices)"
      ],
      "execution_count": null,
      "outputs": [
        {
          "output_type": "stream",
          "text": [
            "Found 2746 validated image filenames belonging to 2 classes.\n",
            "Found 916 validated image filenames belonging to 2 classes.\n",
            "{'Retinopathy': 0, 'healthy': 1}\n",
            "{'Retinopathy': 0, 'healthy': 1}\n"
          ],
          "name": "stdout"
        }
      ]
    },
    {
      "cell_type": "code",
      "metadata": {
        "id": "BnKlsOeSxCjG",
        "outputId": "0a208fbb-deed-4446-8a7b-983da4cf6fdb",
        "colab": {
          "base_uri": "https://localhost:8080/",
          "height": 289
        }
      },
      "source": [
        "history = vgg_binary.fit_generator(\n",
        "        train_generator,\n",
        "        steps_per_epoch=2746 // batch_size,\n",
        "        epochs=epochs,                           \n",
        "        validation_data=validation_generator,\n",
        "        validation_steps=916 // batch_size)\n",
        "\n",
        "vgg_binary.save('/content/drive/My Drive/Aptos Dataset/Final_Model.h5')\n",
        "print('Saved the model to disk.')"
      ],
      "execution_count": null,
      "outputs": [
        {
          "output_type": "stream",
          "text": [
            "Epoch 1/5\n",
            "170/171 [============================>.] - ETA: 9s - loss: 1.1973 - accuracy: 0.8552 "
          ],
          "name": "stdout"
        },
        {
          "output_type": "stream",
          "text": [
            "/usr/local/lib/python3.6/dist-packages/keras/utils/data_utils.py:616: UserWarning: The input 31 could not be retrieved. It could be because a worker has died.\n",
            "  UserWarning)\n",
            "/usr/local/lib/python3.6/dist-packages/keras/utils/data_utils.py:616: UserWarning: The input 53 could not be retrieved. It could be because a worker has died.\n",
            "  UserWarning)\n"
          ],
          "name": "stderr"
        },
        {
          "output_type": "stream",
          "text": [
            "\b\b\b\b\b\b\b\b\b\b\b\b\b\b\b\b\b\b\b\b\b\b\b\b\b\b\b\b\b\b\b\b\b\b\b\b\b\b\b\b\b\b\b\b\b\b\b\b\b\b\b\b\b\b\b\b\b\b\b\b\b\b\b\b\b\b\b\b\b\b\b\b\b\b\b\b\b\b\b\b\b\b\b\b\r171/171 [==============================] - 2311s 14s/step - loss: 1.1911 - accuracy: 0.8557 - val_loss: 0.4850 - val_accuracy: 0.9068\n",
            "Epoch 2/5\n",
            "171/171 [==============================] - 2354s 14s/step - loss: 0.2689 - accuracy: 0.9231 - val_loss: 0.2185 - val_accuracy: 0.9100\n",
            "Epoch 3/5\n",
            "171/171 [==============================] - 2305s 13s/step - loss: 0.1766 - accuracy: 0.9425 - val_loss: 0.6182 - val_accuracy: 0.9278\n",
            "Epoch 4/5\n",
            "171/171 [==============================] - 2152s 13s/step - loss: 0.1573 - accuracy: 0.9498 - val_loss: 0.0834 - val_accuracy: 0.9444\n",
            "Epoch 5/5\n",
            "171/171 [==============================] - 2093s 12s/step - loss: 0.1409 - accuracy: 0.9549 - val_loss: 0.2200 - val_accuracy: 0.9500\n",
            "Saved the model to disk.\n"
          ],
          "name": "stdout"
        }
      ]
    },
    {
      "cell_type": "code",
      "metadata": {
        "id": "iQP8OmVExRjE",
        "outputId": "e1b2919b-f032-4efb-ad63-5fd5d711f2dd",
        "colab": {
          "base_uri": "https://localhost:8080/",
          "height": 312
        }
      },
      "source": [
        "# Print out the metrics recorded during training (saved in the history)\n",
        "print(history.history.keys())\n",
        "\n",
        "# summarize history for accuracy\n",
        "plt.plot(history.history['accuracy'])\n",
        "plt.plot(history.history['val_accuracy'])\n",
        "plt.title('model accuracy')\n",
        "plt.ylabel('accuracy')\n",
        "plt.xlabel('epoch')\n",
        "plt.legend(['train', 'test'], loc='upper left')\n",
        "plt.show()"
      ],
      "execution_count": null,
      "outputs": [
        {
          "output_type": "stream",
          "text": [
            "dict_keys(['val_loss', 'val_accuracy', 'loss', 'accuracy'])\n"
          ],
          "name": "stdout"
        },
        {
          "output_type": "display_data",
          "data": {
            "image/png": "[encoded data removed]",
            "text/plain": [
              "<Figure size 432x288 with 1 Axes>"
            ]
          },
          "metadata": {
            "tags": [],
            "needs_background": "light"
          }
        }
      ]
    },
    {
      "cell_type": "code",
      "metadata": {
        "id": "5nSq_X1CxUBR",
        "outputId": "2f3d928c-0599-4ad1-84af-5e56e3f54407",
        "colab": {
          "base_uri": "https://localhost:8080/",
          "height": 295
        }
      },
      "source": [
        "# summarize history for loss\n",
        "plt.plot(history.history['loss'])\n",
        "plt.plot(history.history['val_loss'])\n",
        "plt.title('model loss')\n",
        "plt.ylabel('loss')\n",
        "plt.xlabel('epoch')\n",
        "plt.legend(['train', 'test'], loc='upper left')\n",
        "plt.show()"
      ],
      "execution_count": null,
      "outputs": [
        {
          "output_type": "display_data",
          "data": {
            "image/png": "[encoded data removed]",
            "text/plain": [
              "<Figure size 432x288 with 1 Axes>"
            ]
          },
          "metadata": {
            "tags": [],
            "needs_background": "light"
          }
        }
      ]
    }
  ]
}